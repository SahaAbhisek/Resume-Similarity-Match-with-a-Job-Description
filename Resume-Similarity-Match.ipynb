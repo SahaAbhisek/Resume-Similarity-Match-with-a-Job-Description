{
 "cells": [
  {
   "cell_type": "markdown",
   "metadata": {},
   "source": [
    "# In this notebook, we will make a model to compare resume with a job descripion and find cosine similarity\n",
    "![cosine_similarity](download.png \"Cosine Similarity\")\n",
    "\n",
    " The jod description is taken from https://careers.google.com/jobs/results/128310308272775878-software-engineer-iii/\n",
    " \n",
    " The Resume are taken from https://www.wikitechy.com/resume/python-developer-resume-samples/"
   ]
  },
  {
   "cell_type": "code",
   "execution_count": 1,
   "metadata": {},
   "outputs": [
    {
     "name": "stdout",
     "output_type": "stream",
     "text": [
      "Google-Engineer-Job-Description.docx  Resume1.docx  download.png\r\n",
      "Resume-Similarity-Match.ipynb\t      Resume2.docx\r\n"
     ]
    }
   ],
   "source": [
    "!ls"
   ]
  },
  {
   "cell_type": "code",
   "execution_count": 2,
   "metadata": {},
   "outputs": [
    {
     "name": "stdout",
     "output_type": "stream",
     "text": [
      "WARNING: pip is being invoked by an old script wrapper. This will fail in a future version of pip.\n",
      "Please see https://github.com/pypa/pip/issues/5599 for advice on fixing the underlying issue.\n",
      "To avoid this problem you can invoke Python with '-m pip' instead of running pip directly.\n",
      "Requirement already satisfied: docx2txt in /home/abhisek/snap/jupyter/common/lib/python3.7/site-packages (0.8)\n"
     ]
    }
   ],
   "source": [
    "!pip install docx2txt"
   ]
  },
  {
   "cell_type": "code",
   "execution_count": 3,
   "metadata": {},
   "outputs": [],
   "source": [
    "import docx2txt\n",
    "\n",
    "resume1 = docx2txt.process('Resume1.docx')\n",
    "resume2 = docx2txt.process('Resume2.docx')"
   ]
  },
  {
   "cell_type": "code",
   "execution_count": 4,
   "metadata": {},
   "outputs": [
    {
     "data": {
      "text/plain": [
       "'MARIA LISA\\n\\nEmail:\\xa0maria123@gmail.com\\nPhone: (555)-555-5555\\n\\n\\n\\nCAREER SUMMARY\\n\\n\\t\\tAround 3 Years of experience in Analysis, Design, Development, Management and Validation of various stand-alone and client-server applications.\\n\\n\\t\\t2+ years of experience in implementing Object-Oriented Python, Hash Tables (Dictionaries) and Multi threading.\\n\\n\\t\\tExperience in installing software using pip command for python libraries and extensive usage of the PEP8 coding convention.\\n\\n\\t\\tGood understanding on Django ORM and SQLAlchemy.\\n\\n\\t\\tExperienced in interfacing with third party API’s using REST and SOAP\\n\\n\\t\\tWorked with varieties of Relational Databases (RDBMS) like SQLite, MySQL and PostgreSQL.\\n\\n\\t\\tExperienced in writing SubQueries, Triggers, Cursors, Stored Procedures and Functions.\\n\\n\\t\\tProficient knowledge of Web services like Google Cloud and Amazon AWS Services.\\n\\n\\t\\tGood Knowledge on Linux and Shell Scripting.\\n\\n\\t\\tExperienced in developing web-based applications using Python, PHP, XML, JSON and MVC3\\n\\n\\t\\tWell versed in design and development of presentation layer for web applications using technologies like HTML,CSS, JavaScript, JQuery, AJAX and Bootstrap.\\n\\nEDUCATION\\n\\nCourse (Stream)/ Examination\\n\\nInstitution/University/School\\n\\nYear of Passing\\n\\nPerformance\\n\\nB.E\\n\\nTagore College of Engineering and Technology – Chennai\\n\\n2015\\n\\n90%\\n\\nHSC\\n\\nScread Higher Secondary School\\n\\n2009\\n\\n84%\\n\\nSSLC\\n\\nST.Marry Higher Secondary School\\n\\n2007\\n\\n\\n\\n\\n\\n\\n\\n80%\\n\\nSKILLS\\n\\n\\t\\tAJAX (1 year)\\n\\n\\t\\tCSS (1 year)\\n\\n\\t\\tHTML (1 year)\\n\\n\\t\\tJAVASCRIPT (1 year)\\n\\n\\t\\tMYSQL (1 year)\\n\\nWORK EXPERIENCE\\n\\n1.) Python\\xa0Developer\\n\\nTata Consultancy Services\\xa0–\\xa0October 2015 to December 2016\\n\\n\\n\\n\\n\\n\\n\\nResponsibilities:\\xa0\\n\\n\\t\\tInvolved in building database model, APIs and views utilizing Python, in order to build an interactive web based solution.\\n\\n\\t\\tUsed data types like dictionaries, tuples and object -concepts based inheritance features for making complex algorithms of networks.\\n\\n\\t\\tDesigned and developed the UI of the website using HTML, XHTML, AJAX, CSS and JavaScript.\\n\\n\\t\\tExpertise in client scripting languages like JavaScript, JQuery, JSON, DOJO, bootstrap, Angular.js.\\n\\n\\t\\tDesigned and managed API system deployment using fast http server and Amazon AWS architecture\\n\\n\\t\\tWorked on Python Open stack API’s.\\n\\n\\t\\tCarried out various mathematical operations for calculation purpose using python libraries.\\n\\n\\t\\tManaged large datasets using Panda data frames and MySQL.\\n\\n\\t\\tWorked with JSON based REST Web services.\\n\\n\\t\\tPerformed testing using Django’s Test Module.\\n\\n\\t\\tCreating unit test/regression test framework for working/new code.\\n\\n\\t\\tUsing Subversion version control tool to coordinate team-development.\\n\\nEnvironment:\\xa0Python, XML, Java, MySQL, Apache, CSS, HTML, JavaScript, Shell Scripts, Linux and Windows.\\n\\n2.) Python\\xa0Developer\\n\\nTechwave Consulting Inc\\xa0 – January 2015 to October 2015\\n\\nResponsibilities:\\n\\n\\t\\tDeveloped Views and Templates with Django view, controller and template language to create a user-friendly website interface.\\n\\n\\t\\tConfigured the Django admin site, dashboard and created a custom Django dashboard for end users with custom look and feel.\\n\\n\\t\\tUsed Python for XML, JSON processing, data exchange and business logic implementation.\\n\\n\\t\\tCreated UI using JavaScript and HTML5. Designed and developed data management system using MongoDB.\\n\\n\\t\\tUsed Python scripts to update the content in database and manipulate files.\\n\\n\\t\\tProficient in Software Design and Development with a solid background in developing.\\n\\nEnvironment:\\xa0Python, XML, MySQL, Apache, CSS, HTML, JavaScript, Shell Scripts, Linux and Windows.\\n\\n\\n\\n\\n\\n\\n\\nADDITIONAL INFORMATION\\n\\n\\t\\tLanguages Python, PHP, Java, C++, Shell scripting\\n\\n\\t\\tPython Framework Django, Pandas, Numpy, Scipy, Matplotlib, Seaborn, TensorFlow, Scikit-Learn, Pytorch.\\n\\n\\t\\tDatabases MS SQL, MySQL, Oracle, PostgreSQL\\n\\n\\t\\tWeb Technologies XML, CSS, HTML 5, JavaScript, JQuery, MVC 3, Bootstrap, AJAX, angular 2, PHP\\n\\n\\t\\tIDE Visual studio, PyCharm, Eclipse, MyEclipse'"
      ]
     },
     "execution_count": 4,
     "metadata": {},
     "output_type": "execute_result"
    }
   ],
   "source": [
    "resume1"
   ]
  },
  {
   "cell_type": "code",
   "execution_count": 5,
   "metadata": {},
   "outputs": [
    {
     "data": {
      "text/plain": [
       "\"Minimum qualifications:\\n\\n\\t\\tBachelor’s degree or equivalent practical experience.\\n\\n\\t\\t3 years of software development experience, or 1 year with an advanced degree.\\n\\n\\t\\tExperience in Java, C/C++, C#, Objective C, Python, JavaScript, or Go.\\n\\n\\t\\tExperience in web/mobile application development, Unix/Linux environments, distributed/parallel systems, information retrieval, networking, or systems/security software development.\\n\\nPreferred qualifications:\\n\\n\\t\\tMaster’s, PhD degree, further education or experience in engineering, computer science or other technical related field.\\n\\n\\t\\tExperience developing accessible technologies.\\n\\n\\t\\tInterest and ability to learn other coding languages as needed.\\n\\n\\t\\tAbility to write in English fluently and idiomatically.\\n\\n\\t\\tAbility to learn other coding languages as needed.\\n\\n\\n\\nAbout the job\\n\\n\\n\\nGoogle's software engineers develop the next-generation technologies that change how billions of users connect, explore, and interact with information and one another. Our products need to handle information at massive scale, and extend well beyond web search. We're looking for engineers who bring fresh ideas from all areas, including information retrieval, distributed computing, large-scale system design, networking and data storage, security, artificial intelligence, natural language processing, UI design and mobile; the list goes on and is growing every day. As a software engineer, you will work on a specific project critical to Google’s needs with opportunities to switch teams and projects as you and our fast-paced business grow and evolve. We need our engineers to be versatile, display leadership qualities and be enthusiastic to take on new problems across the full-stack as we continue to push technology forward.\\n\\nGoogle aspires to be an organization that reflects the globally diverse audience that our products and technology serve. We believe that in addition to hiring the best talent, a diversity of perspectives, ideas and cultures leads to the creation of better products and services.\\n\\nGoogle is and always will be an engineering company. We hire people with a broad set of technical skills who are ready to take on some of technology's greatest challenges and make an impact on millions, if not billions, of users. At Google, engineers not only revolutionize search, they routinely work on massive scalability and storage solutions, large-scale applications and entirely new platforms for developers around the world. From Google Ads to Chrome, Android to YouTube, Social to Local, Google engineers are changing the world one technological achievement after another.\\n\\nAdditional Information\\n(Colorado only*) Minimum salary of $132,000 + bonus + equity + benefits.\\n*Note: Disclosure as required by sb19-085 (8-5-20) of the minimum salary compensation for this role when being hired into our offices in Colorado.\\n\\n\\n\\nResponsibilities\\n\\n\\n\\n\\t\\tDesign, develop, test, deploy, maintain and improve software.\\n\\n\\t\\tManage individual project priorities, deadlines and deliverables.\""
      ]
     },
     "execution_count": 5,
     "metadata": {},
     "output_type": "execute_result"
    }
   ],
   "source": [
    "job_desc = docx2txt.process('Google-Engineer-Job-Description.docx')\n",
    "job_desc"
   ]
  },
  {
   "cell_type": "code",
   "execution_count": 6,
   "metadata": {},
   "outputs": [
    {
     "name": "stderr",
     "output_type": "stream",
     "text": [
      "/home/abhisek/snap/jupyter/common/lib/python3.7/site-packages/joblib/_multiprocessing_helpers.py:45: UserWarning: [Errno 13] Permission denied.  joblib will operate in serial mode\n",
      "  warnings.warn('%s.  joblib will operate in serial mode' % (e,))\n"
     ]
    }
   ],
   "source": [
    "import re\n",
    "import nltk\n",
    "\n",
    "def cleanText(text):\n",
    "    text_clean = re.sub('[^a-zA-Z0-9+#]', ' ', text)\n",
    "    text_clean = re.sub('\\s+', ' ', text_clean)\n",
    "    return text_clean"
   ]
  },
  {
   "cell_type": "code",
   "execution_count": 7,
   "metadata": {},
   "outputs": [],
   "source": [
    "job_desc_clean = cleanText(job_desc)"
   ]
  },
  {
   "cell_type": "code",
   "execution_count": 8,
   "metadata": {},
   "outputs": [],
   "source": [
    "#job_desc_clean = re.sub('[^a-zA-Z0-9+#]', ' ', job_desc)\n",
    "#job_desc_clean = re.sub('\\s+', ' ', job_desc)"
   ]
  },
  {
   "cell_type": "code",
   "execution_count": 9,
   "metadata": {},
   "outputs": [
    {
     "data": {
      "text/plain": [
       "'Minimum qualifications Bachelor s degree or equivalent practical experience 3 years of software development experience or 1 year with an advanced degree Experience in Java C C++ C# Objective C Python JavaScript or Go Experience in web mobile application development Unix Linux environments distributed parallel systems information retrieval networking or systems security software development Preferred qualifications Master s PhD degree further education or experience in engineering computer science or other technical related field Experience developing accessible technologies Interest and ability to learn other coding languages as needed Ability to write in English fluently and idiomatically Ability to learn other coding languages as needed About the job Google s software engineers develop the next generation technologies that change how billions of users connect explore and interact with information and one another Our products need to handle information at massive scale and extend well beyond web search We re looking for engineers who bring fresh ideas from all areas including information retrieval distributed computing large scale system design networking and data storage security artificial intelligence natural language processing UI design and mobile the list goes on and is growing every day As a software engineer you will work on a specific project critical to Google s needs with opportunities to switch teams and projects as you and our fast paced business grow and evolve We need our engineers to be versatile display leadership qualities and be enthusiastic to take on new problems across the full stack as we continue to push technology forward Google aspires to be an organization that reflects the globally diverse audience that our products and technology serve We believe that in addition to hiring the best talent a diversity of perspectives ideas and cultures leads to the creation of better products and services Google is and always will be an engineering company We hire people with a broad set of technical skills who are ready to take on some of technology s greatest challenges and make an impact on millions if not billions of users At Google engineers not only revolutionize search they routinely work on massive scalability and storage solutions large scale applications and entirely new platforms for developers around the world From Google Ads to Chrome Android to YouTube Social to Local Google engineers are changing the world one technological achievement after another Additional Information Colorado only Minimum salary of 132 000 + bonus + equity + benefits Note Disclosure as required by sb19 085 8 5 20 of the minimum salary compensation for this role when being hired into our offices in Colorado Responsibilities Design develop test deploy maintain and improve software Manage individual project priorities deadlines and deliverables '"
      ]
     },
     "execution_count": 9,
     "metadata": {},
     "output_type": "execute_result"
    }
   ],
   "source": [
    "job_desc_clean"
   ]
  },
  {
   "cell_type": "code",
   "execution_count": 10,
   "metadata": {},
   "outputs": [
    {
     "data": {
      "text/plain": [
       "'MARIA LISA Email maria123 gmail com Phone 555 555 5555 CAREER SUMMARY Around 3 Years of experience in Analysis Design Development Management and Validation of various stand alone and client server applications 2+ years of experience in implementing Object Oriented Python Hash Tables Dictionaries and Multi threading Experience in installing software using pip command for python libraries and extensive usage of the PEP8 coding convention Good understanding on Django ORM and SQLAlchemy Experienced in interfacing with third party API s using REST and SOAP Worked with varieties of Relational Databases RDBMS like SQLite MySQL and PostgreSQL Experienced in writing SubQueries Triggers Cursors Stored Procedures and Functions Proficient knowledge of Web services like Google Cloud and Amazon AWS Services Good Knowledge on Linux and Shell Scripting Experienced in developing web based applications using Python PHP XML JSON and MVC3 Well versed in design and development of presentation layer for web applications using technologies like HTML CSS JavaScript JQuery AJAX and Bootstrap EDUCATION Course Stream Examination Institution University School Year of Passing Performance B E Tagore College of Engineering and Technology Chennai 2015 90 HSC Scread Higher Secondary School 2009 84 SSLC ST Marry Higher Secondary School 2007 80 SKILLS AJAX 1 year CSS 1 year HTML 1 year JAVASCRIPT 1 year MYSQL 1 year WORK EXPERIENCE 1 Python Developer Tata Consultancy Services October 2015 to December 2016 Responsibilities Involved in building database model APIs and views utilizing Python in order to build an interactive web based solution Used data types like dictionaries tuples and object concepts based inheritance features for making complex algorithms of networks Designed and developed the UI of the website using HTML XHTML AJAX CSS and JavaScript Expertise in client scripting languages like JavaScript JQuery JSON DOJO bootstrap Angular js Designed and managed API system deployment using fast http server and Amazon AWS architecture Worked on Python Open stack API s Carried out various mathematical operations for calculation purpose using python libraries Managed large datasets using Panda data frames and MySQL Worked with JSON based REST Web services Performed testing using Django s Test Module Creating unit test regression test framework for working new code Using Subversion version control tool to coordinate team development Environment Python XML Java MySQL Apache CSS HTML JavaScript Shell Scripts Linux and Windows 2 Python Developer Techwave Consulting Inc January 2015 to October 2015 Responsibilities Developed Views and Templates with Django view controller and template language to create a user friendly website interface Configured the Django admin site dashboard and created a custom Django dashboard for end users with custom look and feel Used Python for XML JSON processing data exchange and business logic implementation Created UI using JavaScript and HTML5 Designed and developed data management system using MongoDB Used Python scripts to update the content in database and manipulate files Proficient in Software Design and Development with a solid background in developing Environment Python XML MySQL Apache CSS HTML JavaScript Shell Scripts Linux and Windows ADDITIONAL INFORMATION Languages Python PHP Java C++ Shell scripting Python Framework Django Pandas Numpy Scipy Matplotlib Seaborn TensorFlow Scikit Learn Pytorch Databases MS SQL MySQL Oracle PostgreSQL Web Technologies XML CSS HTML 5 JavaScript JQuery MVC 3 Bootstrap AJAX angular 2 PHP IDE Visual studio PyCharm Eclipse MyEclipse'"
      ]
     },
     "execution_count": 10,
     "metadata": {},
     "output_type": "execute_result"
    }
   ],
   "source": [
    "resume1_clean = cleanText(resume1)\n",
    "resume1_clean"
   ]
  },
  {
   "cell_type": "code",
   "execution_count": 11,
   "metadata": {},
   "outputs": [],
   "source": [
    "texts = [job_desc_clean, resume1_clean]"
   ]
  },
  {
   "cell_type": "code",
   "execution_count": 12,
   "metadata": {},
   "outputs": [],
   "source": [
    "from sklearn.feature_extraction.text import CountVectorizer\n",
    "cv = CountVectorizer()"
   ]
  },
  {
   "cell_type": "code",
   "execution_count": 13,
   "metadata": {},
   "outputs": [],
   "source": [
    "text_vectors = cv.fit_transform(texts)"
   ]
  },
  {
   "cell_type": "code",
   "execution_count": 14,
   "metadata": {},
   "outputs": [
    {
     "data": {
      "text/plain": [
       "<2x473 sparse matrix of type '<class 'numpy.int64'>'\n",
       "\twith 523 stored elements in Compressed Sparse Row format>"
      ]
     },
     "execution_count": 14,
     "metadata": {},
     "output_type": "execute_result"
    }
   ],
   "source": [
    "text_vectors"
   ]
  },
  {
   "cell_type": "code",
   "execution_count": 15,
   "metadata": {},
   "outputs": [],
   "source": [
    "from sklearn.metrics.pairwise import cosine_similarity"
   ]
  },
  {
   "cell_type": "code",
   "execution_count": 16,
   "metadata": {},
   "outputs": [
    {
     "data": {
      "text/plain": [
       "array([[1.        , 0.56203254],\n",
       "       [0.56203254, 1.        ]])"
      ]
     },
     "execution_count": 16,
     "metadata": {},
     "output_type": "execute_result"
    }
   ],
   "source": [
    "cosine_similarity(text_vectors)"
   ]
  },
  {
   "cell_type": "code",
   "execution_count": 17,
   "metadata": {},
   "outputs": [
    {
     "name": "stdout",
     "output_type": "stream",
     "text": [
      "Resume 1 matches about 56.2% with the job description\n"
     ]
    }
   ],
   "source": [
    "similarity1 = round(cosine_similarity(text_vectors)[0][1]*100,2)\n",
    "print(\"Resume 1 matches about {}% with the job description\".format(similarity1))"
   ]
  },
  {
   "cell_type": "code",
   "execution_count": 18,
   "metadata": {},
   "outputs": [],
   "source": [
    "resume2_clean = cleanText(resume2)"
   ]
  },
  {
   "cell_type": "code",
   "execution_count": 19,
   "metadata": {},
   "outputs": [],
   "source": [
    "texts2 = [job_desc_clean, resume2_clean]"
   ]
  },
  {
   "cell_type": "code",
   "execution_count": 20,
   "metadata": {},
   "outputs": [],
   "source": [
    "text_vectors2 = cv.fit_transform(texts2)"
   ]
  },
  {
   "cell_type": "code",
   "execution_count": 22,
   "metadata": {},
   "outputs": [
    {
     "data": {
      "text/plain": [
       "array([[1.        , 0.65456476],\n",
       "       [0.65456476, 1.        ]])"
      ]
     },
     "execution_count": 22,
     "metadata": {},
     "output_type": "execute_result"
    }
   ],
   "source": [
    "cosine_similarity(text_vectors2)"
   ]
  },
  {
   "cell_type": "code",
   "execution_count": 23,
   "metadata": {},
   "outputs": [
    {
     "name": "stdout",
     "output_type": "stream",
     "text": [
      "Resume 2 matches about 65.46% with the job description\n"
     ]
    }
   ],
   "source": [
    "similarity2 = round(cosine_similarity(text_vectors2)[0][1]*100,2)\n",
    "print(\"Resume 2 matches about {}% with the job description\".format(similarity2))"
   ]
  }
 ],
 "metadata": {
  "kernelspec": {
   "display_name": "Python 3",
   "language": "python",
   "name": "python3"
  },
  "language_info": {
   "codemirror_mode": {
    "name": "ipython",
    "version": 3
   },
   "file_extension": ".py",
   "mimetype": "text/x-python",
   "name": "python",
   "nbconvert_exporter": "python",
   "pygments_lexer": "ipython3",
   "version": "3.7.3"
  }
 },
 "nbformat": 4,
 "nbformat_minor": 2
}
